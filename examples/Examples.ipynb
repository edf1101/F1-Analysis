{
 "cells": [
  {
   "cell_type": "code",
   "execution_count": 1,
   "id": "initial_id",
   "metadata": {
    "collapsed": true,
    "ExecuteTime": {
     "end_time": "2024-03-11T15:04:50.626169Z",
     "start_time": "2024-03-11T15:04:50.623404Z"
    }
   },
   "outputs": [],
   "source": [
    "import f1_predictor as fp"
   ]
  },
  {
   "cell_type": "code",
   "execution_count": 2,
   "outputs": [],
   "source": [
    "import f1_predictor.config as fpc"
   ],
   "metadata": {
    "collapsed": false,
    "ExecuteTime": {
     "end_time": "2024-03-11T15:04:50.922487Z",
     "start_time": "2024-03-11T15:04:50.627153Z"
    }
   },
   "id": "cf7ad67c6edd282c"
  },
  {
   "cell_type": "code",
   "execution_count": 5,
   "outputs": [
    {
     "data": {
      "text/plain": "[(2022, 'Bahrain Grand Prix'),\n (2022, 'Saudi Arabian Grand Prix'),\n (2022, 'Australian Grand Prix'),\n (2022, 'Emilia Romagna Grand Prix'),\n (2022, 'Miami Grand Prix'),\n (2022, 'Spanish Grand Prix'),\n (2022, 'Monaco Grand Prix'),\n (2022, 'Azerbaijan Grand Prix'),\n (2022, 'Canadian Grand Prix'),\n (2022, 'British Grand Prix'),\n (2022, 'Austrian Grand Prix'),\n (2022, 'French Grand Prix'),\n (2022, 'Hungarian Grand Prix'),\n (2022, 'Belgian Grand Prix'),\n (2022, 'Dutch Grand Prix'),\n (2022, 'Italian Grand Prix'),\n (2022, 'Singapore Grand Prix'),\n (2022, 'Japanese Grand Prix'),\n (2022, 'United States Grand Prix'),\n (2022, 'Mexico City Grand Prix'),\n (2022, 'São Paulo Grand Prix'),\n (2022, 'Abu Dhabi Grand Prix'),\n (2023, 'Bahrain Grand Prix'),\n (2023, 'Saudi Arabian Grand Prix'),\n (2023, 'Australian Grand Prix'),\n (2023, 'Azerbaijan Grand Prix'),\n (2023, 'Miami Grand Prix'),\n (2023, 'Monaco Grand Prix'),\n (2023, 'Spanish Grand Prix'),\n (2023, 'Canadian Grand Prix'),\n (2023, 'Austrian Grand Prix'),\n (2023, 'British Grand Prix'),\n (2023, 'Hungarian Grand Prix'),\n (2023, 'Belgian Grand Prix'),\n (2023, 'Dutch Grand Prix'),\n (2023, 'Italian Grand Prix'),\n (2023, 'Singapore Grand Prix'),\n (2023, 'Japanese Grand Prix'),\n (2023, 'Qatar Grand Prix'),\n (2023, 'United States Grand Prix'),\n (2023, 'Mexico City Grand Prix'),\n (2023, 'São Paulo Grand Prix'),\n (2023, 'Las Vegas Grand Prix'),\n (2023, 'Abu Dhabi Grand Prix')]"
     },
     "execution_count": 5,
     "metadata": {},
     "output_type": "execute_result"
    }
   ],
   "source": [
    "# print out the list of races to look at\n",
    "fpc.get_train_races()"
   ],
   "metadata": {
    "collapsed": false,
    "ExecuteTime": {
     "end_time": "2024-03-11T15:05:37.148288Z",
     "start_time": "2024-03-11T15:05:37.117741Z"
    }
   },
   "id": "948fc6594dcf1371"
  },
  {
   "cell_type": "code",
   "execution_count": 3,
   "outputs": [],
   "source": [],
   "metadata": {
    "collapsed": false,
    "ExecuteTime": {
     "end_time": "2024-03-11T15:04:50.951631Z",
     "start_time": "2024-03-11T15:04:50.945708Z"
    }
   },
   "id": "132b496f7307c0d0"
  }
 ],
 "metadata": {
  "kernelspec": {
   "display_name": "Python 3",
   "language": "python",
   "name": "python3"
  },
  "language_info": {
   "codemirror_mode": {
    "name": "ipython",
    "version": 2
   },
   "file_extension": ".py",
   "mimetype": "text/x-python",
   "name": "python",
   "nbconvert_exporter": "python",
   "pygments_lexer": "ipython2",
   "version": "2.7.6"
  }
 },
 "nbformat": 4,
 "nbformat_minor": 5
}
